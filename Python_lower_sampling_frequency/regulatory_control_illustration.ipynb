{
 "cells": [
  {
   "cell_type": "code",
   "execution_count": 2,
   "metadata": {},
   "outputs": [],
   "source": [
    "# Import necessary librariers\n",
    "import numpy as np\n",
    "import matplotlib.pyplot as plt\n",
    "from simulation_configs import generateConfigurations\n",
    "from simulation_modules import DisturbanceModule, ProcessModule, MeasurementModule, RegulatoryControlModule\n",
    "import inspect\n",
    "import pprint\n",
    "import pandas as pd\n",
    "import time as real_time"
   ]
  },
  {
   "cell_type": "code",
   "execution_count": 3,
   "metadata": {},
   "outputs": [],
   "source": [
    "# Repeatable results\n",
    "np.random.seed(85)"
   ]
  },
  {
   "cell_type": "code",
   "execution_count": 4,
   "metadata": {},
   "outputs": [],
   "source": [
    "# Generate configurations\n",
    "t, d, u, p, x, f, y, r, m, econ = generateConfigurations()"
   ]
  },
  {
   "cell_type": "code",
   "execution_count": 5,
   "metadata": {},
   "outputs": [
    {
     "name": "stdout",
     "output_type": "stream",
     "text": [
      "{'PI': {'K': 0.1, 'tauI': 10},\n",
      " 'control': True,\n",
      " 'dt': 100,\n",
      " 'intError': 0,\n",
      " 'x0v': 0.5,\n",
      " 'xFv': 0.5,\n",
      " 'xWv': 0.5}\n"
     ]
    }
   ],
   "source": [
    "# Regularory control parameters\n",
    "pprint.pprint(u)"
   ]
  },
  {
   "cell_type": "code",
   "execution_count": 6,
   "metadata": {},
   "outputs": [
    {
     "name": "stdout",
     "output_type": "stream",
     "text": [
      "def RegulatoryControlModule(u, y, r):\n",
      "    # No regulatory control for F0 and F valves\n",
      "    u['x0v'] = r['components']['valveF0']['position']\n",
      "    u['xFv'] = r['components']['valveF']['position']\n",
      "\n",
      "    # PI controller for FW valve\n",
      "    # Check if controller mode is in automatic\n",
      "    if r['components']['valveFW']['position'] == -1:\n",
      "        # Calculate error\n",
      "        error = r['setpoints']['C'] - y['C']['value']\n",
      "        # Accumulate integral error\n",
      "        u['intError'] = u['intError'] + error*u['dt']\n",
      "        # Calculate controller output: output bias of zero?\n",
      "        u['xWv'] = -u['PI']['K']*(error + u['intError']/u['PI']['tauI']) # TOASK: why no bias?\n",
      "        # Note controller mode\n",
      "        u['control'] = True\n",
      "    else:\n",
      "        # Manual control\n",
      "        u['xWv'] = 0.5*r['components']['valveFW']['position'] # TOASK: why 0.5?\n",
      "        u['intError'] = 0\n",
      "        u['control'] = False\n",
      "\n",
      "    return u\n",
      "\n"
     ]
    }
   ],
   "source": [
    "# Regulatory control module\n",
    "print(inspect.getsource(RegulatoryControlModule))"
   ]
  },
  {
   "cell_type": "code",
   "execution_count": 7,
   "metadata": {},
   "outputs": [
    {
     "name": "stdout",
     "output_type": "stream",
     "text": [
      "{'check_duration': 7200,\n",
      " 'faultFlag': False,\n",
      " 'position': -1,\n",
      " 'replace_duration': 14400,\n",
      " 'type': 'valve'}\n",
      "{'C': 0.5}\n"
     ]
    }
   ],
   "source": [
    "# Supervisory control configuration\n",
    "pprint.pprint(r['components']['valveFW'])\n",
    "pprint.pprint(r['setpoints'])"
   ]
  },
  {
   "cell_type": "code",
   "execution_count": 8,
   "metadata": {},
   "outputs": [],
   "source": [
    "# Generate disturbances\n",
    "d_range = DisturbanceModule(d,t)"
   ]
  },
  {
   "cell_type": "code",
   "execution_count": 9,
   "metadata": {},
   "outputs": [
    {
     "name": "stdout",
     "output_type": "stream",
     "text": [
      "Simulation progress:\n",
      "0.00%\n",
      "7.14%\n",
      "14.29%\n",
      "21.43%\n",
      "28.57%\n",
      "35.71%\n",
      "42.86%\n",
      "50.00%\n",
      "57.14%\n",
      "64.29%\n",
      "71.43%\n",
      "78.57%\n",
      "85.71%\n",
      "92.86%\n",
      "Done! Simulation duration: 1.0 seconds.\n"
     ]
    }
   ],
   "source": [
    "# Simulation\n",
    "# Start timer for simulation duration\n",
    "start_time = real_time.time()\n",
    "# List of variables to save\n",
    "results_list = ['Time (days)', 'V', 'uWv', 'xWv', \n",
    "                'L', 'F0', 'FW', 'F', 'C0','C', 'CSP',\n",
    "                'F0m', 'FWm', 'Fm', 'C0m', 'Cm']\n",
    "# Preallocate numpy array to store results\n",
    "results = np.full((t['N'], len(results_list)),np.nan)\n",
    "# Start simulation\n",
    "print('Simulation progress:')\n",
    "while t['tvector'][t['i']] < t['tmax']: # necessary while loop, since shuts can skip forward in time\n",
    "    # Update time (check for jumps from maintenance)\n",
    "    t['tvector'][t['i']+1] = t['tvector'][t['i']] + t['deltat']\n",
    "    # Current disturbance\n",
    "    d_now = {col: d_range[col][t['i']] for col in ['F0', 'C0']}\n",
    "    \n",
    "    # Regulatory control module\n",
    "    u = RegulatoryControlModule(u, y, r)\n",
    "    # Process module\n",
    "    x = ProcessModule(p, u, d_now, x, f, t)\n",
    "    # Measurement module\n",
    "    y = MeasurementModule(y, x, d_now, f)\n",
    "    # Update results\n",
    "    results[t['i'], :] = [t['tvector'][t['i']]/(3600*24),\n",
    "                          x['V'], \n",
    "                          u['xWv'],\n",
    "                          x['xWv'], \n",
    "                          x['L'], \n",
    "                          x['F0'], \n",
    "                          x['FW'], \n",
    "                          x['F'], \n",
    "                          d_now['C0'], \n",
    "                          x['C'],\n",
    "                          r['setpoints']['C'],\n",
    "                          y['F0']['value'], \n",
    "                          y['FW']['value'], \n",
    "                          y['F']['value'], \n",
    "                          y['C0']['value'], \n",
    "                          y['C']['value']]\n",
    "     # Display progress in percent time\n",
    "    if t['tvector'][t['i']] % (2*24*3600) == 0:\n",
    "        print(f'{t[\"tvector\"][t[\"i\"]]/t[\"tmax\"]*100:.2f}%')\n",
    "    # Update time index\n",
    "    t['i'] += 1\n",
    "\n",
    "# End timer for simulation duration\n",
    "end_time = real_time.time()\n",
    "# Print simulation duration\n",
    "print(f'Done! Simulation duration: {end_time-start_time:.1f} seconds.')"
   ]
  },
  {
   "cell_type": "code",
   "execution_count": 10,
   "metadata": {},
   "outputs": [],
   "source": [
    "# Convert results (numpy array) to DataFrame\n",
    "df = pd.DataFrame(results, columns=results_list)\n",
    "df.set_index('Time (days)', inplace=True)"
   ]
  },
  {
   "cell_type": "code",
   "execution_count": 19,
   "metadata": {},
   "outputs": [
    {
     "data": {
      "text/plain": [
       "<matplotlib.legend.Legend at 0x1bcbe0d07a0>"
      ]
     },
     "execution_count": 19,
     "metadata": {},
     "output_type": "execute_result"
    },
    {
     "data": {
      "image/png": "[encoded data removed]",
      "text/plain": [
       "<Figure size 800x500 with 3 Axes>"
      ]
     },
     "metadata": {},
     "output_type": "display_data"
    }
   ],
   "source": [
    "# Plot\n",
    "startInd = 0\n",
    "endInd = 0.05\n",
    "plot_list = ['Cm','uWv','F0m']\n",
    "axx=df[plot_list].loc[startInd:endInd].plot(subplots=True, color='blue',alpha=0.5,marker='.',ls='none',figsize=(8,5),legend=True)\n",
    "axx[0].plot(df['CSP'].loc[startInd:endInd], 'r--',label='CSP')\n",
    "axx[0].legend()\n",
    "axx[1].plot(df['xWv'].loc[startInd:endInd], 'k-',alpha=0.2,label='xWv')\n",
    "axx[1].legend()"
   ]
  }
 ],
 "metadata": {
  "kernelspec": {
   "display_name": "sim_env",
   "language": "python",
   "name": "python3"
  },
  "language_info": {
   "codemirror_mode": {
    "name": "ipython",
    "version": 3
   },
   "file_extension": ".py",
   "mimetype": "text/x-python",
   "name": "python",
   "nbconvert_exporter": "python",
   "pygments_lexer": "ipython3",
   "version": "3.12.1"
  }
 },
 "nbformat": 4,
 "nbformat_minor": 2
}
